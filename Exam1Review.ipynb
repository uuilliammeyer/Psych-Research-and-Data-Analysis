{
 "cells": [
  {
   "cell_type": "markdown",
   "metadata": {},
   "source": [
    "<h1><center>Welcome!</center></h1> This is a jupyter notebook designed to help understand, review, and run statistical functions for my upcoming psych2005 exam. All material in this review guide is meant as review excersize or as a resource. Under no circumstances should this notebook be used in an accedmically dishonest fashion. "
   ]
  },
  {
   "cell_type": "markdown",
   "metadata": {},
   "source": [
    "## Section 1: Orentation, Concepts, and Definitions"
   ]
  },
  {
   "cell_type": "markdown",
   "metadata": {},
   "source": [
    "### Some basic definitions"
   ]
  },
  {
   "cell_type": "markdown",
   "metadata": {},
   "source": [
    "- ***Descriptive statistics:*** Procedures of summarizing a group of scores or otherwise making them more understandable. \n",
    "- ***Inferential statistics:*** Procuderes for drawing conclusions based on the scores collected in a research study but going beyond them.\n",
    "- ***Variable:*** characteristics that can have different values.\n",
    "- ***Values:*** the possible number a category that a score can have.\n",
    "- ***Score:*** A particular person's value on a variable."
   ]
  },
  {
   "cell_type": "markdown",
   "metadata": {},
   "source": [
    "### Kinds of variables"
   ]
  },
  {
   "cell_type": "markdown",
   "metadata": {},
   "source": [
    "- ***Numeric (Quantitative) Variables:*** Variables and scores are numbers.\n",
    "- ***Equal Interval Variable:*** A variable with in which the numbers stand for approximately the same ammount. \n",
    "- ***Ratio Variables:*** A kind of equal interval variable where the scale has a meaningful absolute zero.\n",
    "- ***Rank Order (Ordinal) Variable:*** A numeric variable with a numberic value in ranks.\n",
    "- ***Nominal Variables:*** Variable and scores are words. Think nom as in name.\n",
    "- ***Descrete Variabels:*** Variables that have specific values and cannot have values between these specific values.\n",
    "- ***Continuous Variables:*** Varaibles that have an inflinite number of values. This is because they are continous.\n",
    "\n",
    "#### Classifying Variables Based on Their Charactersistics\n",
    "\n",
    "- ***Behavioral Variables:*** Only observable response of an organism.\n",
    "- ***Stimulus Variables:*** The factors that have actual or potential effects on the organism's responses are stimulus varaibles. Researchers usually control these variables.\n",
    "    - Can be internal or external\n",
    "- ***Organismic Variables (subject variables):*** Characteristics of the participants.\n",
    "    -  There are observed organismic variables\n",
    "    -  There are responce-infered organismic variables\n",
    "\n",
    "#### Variables by their use\n",
    "\n",
    "- ***Independent Variables:*** Vary to see their affect on the dependent variable.\n",
    "    -  Manipulated independent variables: The experiment actively controls them\n",
    "    -  Nonmanipulated independent variables (classification variables) Participants are assigned based on existing relationship.\n",
    "- ***Dependent Variables:*** Are measured to see their how they change as a result of the independent variable."
   ]
  },
  {
   "cell_type": "markdown",
   "metadata": {},
   "source": [
    "### Theories and Knowledge\n",
    "\n",
    "- ***Inductive Reasoning:*** Moving from specific to general.\n",
    "- ***Deductive Reasoning:*** Moving from general to specific.\n",
    "- ***Facts:*** Data gathered from imperical research. Directly observable and measurable.\n",
    "- ***Constructs:*** Ideas created by the researcher based on facts or infrences.\n",
    "- ***Theory:*** A formalized set of concepts that summarizes and organizes obersvations and inferences. It should help make predictions. It should also be falsifiable. All theories bring in a mix of deduction and inductions.\n",
    "    - ***Inductive Theories:*** Stay close to the data.\n",
    "    - ***Deductive Theories:*** Deduce from constructs.\n",
    "    - ***Functional Theories:*** The middle grouond of inductive and deductive theories."
   ]
  },
  {
   "cell_type": "markdown",
   "metadata": {},
   "source": [
    "### Validity and Reliability and the Errors That Affect Them"
   ]
  },
  {
   "cell_type": "markdown",
   "metadata": {},
   "source": [
    "- ***Validity:*** the ability to correctly measure something.\n",
    "    - Basically a measure of how good the experiment is. Logic nerds please do not come at me for this definition. \n",
    "- ***Criterion validity:*** How well a measures meets set a criterion.\n",
    "    - EX: Predictive validity is how well something can predict a future event.\n",
    "    - EX: Cocurrent validity is a measure of correlation with an existing measure. \n",
    "- ***Validity is not the same thing as reliability.*** \n",
    "    A measure cannot be vaid unless it is reliable. But a measure can be reliable without being valid. For example, a scale that consistently displays someone's weight as half of what it truly is. This sscale is reliable because it produces the same output each time. However, it is invalid because it doesn't display someone's true wieght. \n",
    "- ***Operational Definitions:*** A definition of a variable in terms of the procedures used to measure it.\n",
    "    - Ex: An opperational definiton for obesity is a BMI>30.\n",
    "- ***Convergent variability:***  When many studies using different oporational definitions produce a common finding.\n",
    "- ***Reliability or Replicability:*** The ability to reproduce results or finding.\n",
    "    - Interrater reliability: the results are the same regardless of who is doing the rating. Necessary condition is that we need at least two raters. Ratings must be blind meaning that experimenters cannot know what rating has been given by other researchers participants.\n",
    "    - Test-retest reliability: obtaining the same scores if the test is run the same way at least twice.\n",
    "    - Internal consistency reliability: when several observations are made to determine the score for a participant.\n",
    "- ***Effective Range:*** How applicable the methods are in a group.\n",
    "- ***Scale attenuation effect:*** using a measure with a resticted range.\n",
    "    - ceilling effect: scores cannot go high enough.\n",
    "    - floor effect scores can't go high enough.\n",
    "\n",
    "#### Errors\n",
    "\n",
    "- ***Measurment error:*** The variables are measured wrong. Occurs when the distribution of scores are such that the oberfactions do not reflect reality.\n",
    "- ***Response set bias:*** The tendency to respond in specific ways regardless of the situation of experiences.\n",
    "    - Ex: If participants responded that they liked the left logo over the right logo, regardless of which logo was on the right or left.\n",
    "    - Ex: Social desirability. Participants respond in a way that they think is socially desirable. \n",
    "    \n",
    "- ***Decision Errors:*** Incorrect conclusions in hypothesis testing in realtion to the real, but unknown, situations. Below is a table showing the kinds of decision errors.\n",
    "\n",
    "| Reality                        | Reject null                        | Fail to reject the null                 |\n",
    "|--------------------------------|------------------------------------|-----------------------------------------|\n",
    "| There really is  an effect     | Yes, correctly  rejected the null. | False negative. Type II error.          |\n",
    "| There really is not an effect  | False positive. Type I error.      | Yes, correctly fail to reject the null. |\n",
    "\n",
    "- The likelihood of a of a false positive is the same as your significance level. Usually, it is represented by alpha ($\\alpha$)\n",
    "- The likelihood of a type two error is represented by beta ($\\beta$). $\\beta=1-\\alpha$"
   ]
  },
  {
   "cell_type": "markdown",
   "metadata": {},
   "source": [
    "### Model of the Research Process"
   ]
  },
  {
   "cell_type": "markdown",
   "metadata": {},
   "source": [
    "Hyman (1964) Claimed that their were two aspecs of research.\n",
    "\n",
    "- Phases of research: the general process of conducting research\n",
    "- Levels of constraint: a continum of how demanding the research design is.\n",
    "    \n",
    "*1. Phases of Research*\n",
    "- Idea generating phase\n",
    "- Problem definition phases. Making a precise research question.\n",
    "- Procedures design phase.\n",
    "- Observation phase. Data collection.\n",
    "- Data analysis phase.\n",
    "- Interpretation phase.\n",
    "- Communication phase.\n",
    "\n",
    "*2. Levels of constraint* \n",
    "- Going from least constraint to most constraint:\n",
    "    - Naturalistic observation: The researchers observes participants in their natural environment. The Research should not do anything to change the environment.\n",
    "    - Case study onservation: Moving the participants into a moderately limiting environment. The researcher intervenes to a slight degree and observes the participant's responses.\n",
    "    - Correlational research: Quantifying the relationship between two variables. Correlational research is useful for predicting trends.\n",
    "    - Differential rersearch: comparing two or more prexisting groups of participants. The setting is usually highly constrained and the measurment procedures must be carefully defined and followed.\n",
    "    - Experimental research: Assigning participants randomly to groups and then resting each groups under a different condition. "
   ]
  },
  {
   "cell_type": "markdown",
   "metadata": {},
   "source": [
    "### Distribution and Frequency"
   ]
  },
  {
   "cell_type": "markdown",
   "metadata": {},
   "source": [
    "*How do I make a frequency table?*"
   ]
  },
  {
   "cell_type": "markdown",
   "metadata": {},
   "source": [
    "1. Make a list down the page of each value from lowest to highest.\n",
    "2. Go one by one through the scores making a mark for each value on your list.\n",
    "3. Make a table showing how many times each variable is used.\n",
    "4. Find the percentages."
   ]
  },
  {
   "cell_type": "markdown",
   "metadata": {},
   "source": [
    "Below is a quick breakdown of unimodal, bimodal, and multimodal. Note that anything with more than two peaks is multimodal."
   ]
  },
  {
   "cell_type": "markdown",
   "metadata": {},
   "source": [
    "![Unimodal, bimodal, multimodal](frequencyDistributionsImage.png \"Frequency distribution paterns\")"
   ]
  },
  {
   "cell_type": "markdown",
   "metadata": {},
   "source": [
    "<center>Frequency distribution paterns</center>"
   ]
  },
  {
   "cell_type": "markdown",
   "metadata": {},
   "source": [
    "- ***Skewed Distributions:***In a scewed distribution, the side with the fewer scores is the tail. The tail is the direction of the skew.\n",
    "- ***Floor effect:*** When distributions are at the low end of the curve because it is not possible to have a lower score.\n",
    "- ***Positively Skewed:*** The curve is skewed to the right.\n",
    "- ***Negatively Skwed:*** The curve is skewed to the left.\n",
    "- ***Normal Curve:***  A specifically, mathematically, defined, bell-shaped frequency distribution that is symetrical and unimodal. For a visual representation of normal curve, see below.\n",
    "- ***Kurtosis:*** The extent to which a distribution is different from a normal curve."
   ]
  },
  {
   "cell_type": "markdown",
   "metadata": {},
   "source": [
    "<center> Significance level cut offs </center>"
   ]
  },
  {
   "cell_type": "markdown",
   "metadata": {},
   "source": [
    "![Normal, curve and the cut offs](NormalCurveWithZScores.png)"
   ]
  },
  {
   "cell_type": "markdown",
   "metadata": {},
   "source": [
    "Notice the difference between one and two tailed hypothesis tests. The two tailed test is the norm and should be used unless you have a really good reason not to. If you read the phrase, \"hypothesis test\" assume it is two tailed unless otherwise stated."
   ]
  },
  {
   "cell_type": "markdown",
   "metadata": {},
   "source": [
    "## Section 2: Statistics"
   ]
  },
  {
   "cell_type": "markdown",
   "metadata": {},
   "source": [
    "### Central Tendency"
   ]
  },
  {
   "cell_type": "markdown",
   "metadata": {},
   "source": [
    "**Mean**\n",
    "\n",
    "You can group scores in terms of a repersentative value. THis is measuring the central tendency of a group of scores. The most well known is the mean. The mean is equal to the sum of scores divided by the number of scores. The mean is the point at which the total distance to all scores above that point is equal to the toal distance of scores below that point. The mean is your go to indicator of central tendency. It can be thrown off by outliers as the mean is dragged in the direction of outliers.\n",
    "\n",
    "- M The mean is usually repersentated by the greek letter mu.\n",
    "\n",
    "- $\\Sigma$ known as signma is commonly used in mathematics to mean the sum of \n",
    "\n",
    "- X represents the scores in the distribution of the variable X. \n",
    "\n",
    "- N represents the number of scores in a distribution.\n",
    "\n",
    "Puting it together you get:\n",
    "\n",
    "$$\n",
    "M = \\frac{\\Sigma X}{N}\n",
    "$$"
   ]
  },
  {
   "cell_type": "markdown",
   "metadata": {},
   "source": [
    "**Mode**\n",
    "\n",
    "The mode is the most common single value in a distribution, meaning that it has the greatest frequency or when distributions are multimodal. You should use the mean when you have nominal values."
   ]
  },
  {
   "cell_type": "markdown",
   "metadata": {},
   "source": [
    "**Median**\n",
    "\n",
    "The median is the middle score from lowest to highest. It can also be viewed as the 50th percentille. The median is good for skewed distributions; outliers; and fairly small samples. Also good with rank order variables as well."
   ]
  },
  {
   "cell_type": "markdown",
   "metadata": {},
   "source": [
    "**A note on calculations of mean median and mode:** I planned on making step-by-step calculators for this note book. That said, making one for mean, median, and mode would be silly and a waste of time as you can do them with numpy and scipy. Further, the calculations themselves are not supper complicated so breaking them down step by step is unessicary."
   ]
  },
  {
   "cell_type": "code",
   "execution_count": 4,
   "metadata": {},
   "outputs": [],
   "source": [
    "import numpy as np\n",
    "from scipy import stats\n",
    "import math\n",
    "import pandas as pd\n",
    "\n",
    "### Put in your scores seperated by commas\n",
    "scores=[21,9,12,29,1,2,7,7,24]\n",
    "\n",
    "def get_centraltendency(scores):\n",
    "    mean=np.mean(scores)\n",
    "    median=np.median(scores)\n",
    "    mode=stats.mode(scores)\n",
    "    N=len(scores)\n",
    "    return print('sum is ', sum(scores)), print ('N is',N), print('Mean is ', mean), print('median is ', median), print('mode is ', mode)\n"
   ]
  },
  {
   "cell_type": "code",
   "execution_count": 5,
   "metadata": {},
   "outputs": [
    {
     "name": "stdout",
     "output_type": "stream",
     "text": [
      "sum is  112\n",
      "N is 9\n",
      "Mean is  12.444444444444445\n",
      "median is  9.0\n",
      "mode is  ModeResult(mode=array([7]), count=array([2]))\n"
     ]
    },
    {
     "data": {
      "text/plain": [
       "(None, None, None, None, None)"
      ]
     },
     "execution_count": 5,
     "metadata": {},
     "output_type": "execute_result"
    }
   ],
   "source": [
    "get_centraltendency(scores)"
   ]
  },
  {
   "cell_type": "markdown",
   "metadata": {},
   "source": [
    "### Variablity and Variance"
   ]
  },
  {
   "cell_type": "markdown",
   "metadata": {},
   "source": [
    "***Variablility:*** How close (or how war) from the mean the scores are in a distribution. \n",
    "\n",
    "***Variance:*** How spead out a set of score are. It is the average of the squared deviation from the mean. "
   ]
  },
  {
   "cell_type": "markdown",
   "metadata": {},
   "source": [
    "<center>Wait–How do I Calculate Variance?</center>"
   ]
  },
  {
   "cell_type": "markdown",
   "metadata": {},
   "source": [
    "1. Substract the mean from each score. This gives you the score's devation score.\n",
    "2. Square each of these deviation score. This gives you the squared deviation score. \n",
    "3. Add up the squared deviation scores. This gives you the sum of squares.\n",
    "4. Divide the sum of squared deviations by the number of scores.\n",
    "\n",
    "The furmula for variance (often repersented by $SD^{2}$) looks like this:\n",
    "\n",
    "$$\n",
    "SD^{2}={\\frac{\\Sigma(X-M)^{2}}{N}}\n",
    "$$"
   ]
  },
  {
   "cell_type": "code",
   "execution_count": 6,
   "metadata": {},
   "outputs": [],
   "source": [
    "def get_variance(scores):\n",
    "    mean=np.mean(scores)\n",
    "    deviation_score=[x-mean for x in scores]\n",
    "    squared_deviation_scores=[x**2 for x in deviation_score]\n",
    "    sum_of_squared_deviation_scores=sum(squared_deviation_scores)\n",
    "    variance=sum_of_squared_deviation_scores/len(scores)\n",
    "    mean_fill=[np.mean(scores) for x in scores]\n",
    "    variance_dict={'scores X': scores, 'mean M': mean_fill, 'deviation scores (X-M)': deviation_score, \n",
    "                  'squared deviation scores (X-M)^2': squared_deviation_scores}\n",
    "    variance_df=pd.DataFrame(variance_dict)\n",
    "    print('mean =',mean)\n",
    "    print('\\u03A3 SS =', sum_of_squared_deviation_scores)\n",
    "    print('SD^2 =',variance)\n",
    "    return variance_df\n"
   ]
  },
  {
   "cell_type": "code",
   "execution_count": 7,
   "metadata": {},
   "outputs": [
    {
     "name": "stdout",
     "output_type": "stream",
     "text": [
      "mean = 12.444444444444445\n",
      "Σ SS = 792.2222222222223\n",
      "SD^2 = 88.0246913580247\n"
     ]
    },
    {
     "data": {
      "text/html": [
       "<div>\n",
       "<style scoped>\n",
       "    .dataframe tbody tr th:only-of-type {\n",
       "        vertical-align: middle;\n",
       "    }\n",
       "\n",
       "    .dataframe tbody tr th {\n",
       "        vertical-align: top;\n",
       "    }\n",
       "\n",
       "    .dataframe thead th {\n",
       "        text-align: right;\n",
       "    }\n",
       "</style>\n",
       "<table border=\"1\" class=\"dataframe\">\n",
       "  <thead>\n",
       "    <tr style=\"text-align: right;\">\n",
       "      <th></th>\n",
       "      <th>scores X</th>\n",
       "      <th>mean M</th>\n",
       "      <th>deviation scores (X-M)</th>\n",
       "      <th>squared deviation scores (X-M)^2</th>\n",
       "    </tr>\n",
       "  </thead>\n",
       "  <tbody>\n",
       "    <tr>\n",
       "      <th>0</th>\n",
       "      <td>21</td>\n",
       "      <td>12.444444</td>\n",
       "      <td>8.555556</td>\n",
       "      <td>73.197531</td>\n",
       "    </tr>\n",
       "    <tr>\n",
       "      <th>1</th>\n",
       "      <td>9</td>\n",
       "      <td>12.444444</td>\n",
       "      <td>-3.444444</td>\n",
       "      <td>11.864198</td>\n",
       "    </tr>\n",
       "    <tr>\n",
       "      <th>2</th>\n",
       "      <td>12</td>\n",
       "      <td>12.444444</td>\n",
       "      <td>-0.444444</td>\n",
       "      <td>0.197531</td>\n",
       "    </tr>\n",
       "    <tr>\n",
       "      <th>3</th>\n",
       "      <td>29</td>\n",
       "      <td>12.444444</td>\n",
       "      <td>16.555556</td>\n",
       "      <td>274.086420</td>\n",
       "    </tr>\n",
       "    <tr>\n",
       "      <th>4</th>\n",
       "      <td>1</td>\n",
       "      <td>12.444444</td>\n",
       "      <td>-11.444444</td>\n",
       "      <td>130.975309</td>\n",
       "    </tr>\n",
       "    <tr>\n",
       "      <th>5</th>\n",
       "      <td>2</td>\n",
       "      <td>12.444444</td>\n",
       "      <td>-10.444444</td>\n",
       "      <td>109.086420</td>\n",
       "    </tr>\n",
       "    <tr>\n",
       "      <th>6</th>\n",
       "      <td>7</td>\n",
       "      <td>12.444444</td>\n",
       "      <td>-5.444444</td>\n",
       "      <td>29.641975</td>\n",
       "    </tr>\n",
       "    <tr>\n",
       "      <th>7</th>\n",
       "      <td>7</td>\n",
       "      <td>12.444444</td>\n",
       "      <td>-5.444444</td>\n",
       "      <td>29.641975</td>\n",
       "    </tr>\n",
       "    <tr>\n",
       "      <th>8</th>\n",
       "      <td>24</td>\n",
       "      <td>12.444444</td>\n",
       "      <td>11.555556</td>\n",
       "      <td>133.530864</td>\n",
       "    </tr>\n",
       "  </tbody>\n",
       "</table>\n",
       "</div>"
      ],
      "text/plain": [
       "   scores X     mean M  deviation scores (X-M)  \\\n",
       "0        21  12.444444                8.555556   \n",
       "1         9  12.444444               -3.444444   \n",
       "2        12  12.444444               -0.444444   \n",
       "3        29  12.444444               16.555556   \n",
       "4         1  12.444444              -11.444444   \n",
       "5         2  12.444444              -10.444444   \n",
       "6         7  12.444444               -5.444444   \n",
       "7         7  12.444444               -5.444444   \n",
       "8        24  12.444444               11.555556   \n",
       "\n",
       "   squared deviation scores (X-M)^2  \n",
       "0                         73.197531  \n",
       "1                         11.864198  \n",
       "2                          0.197531  \n",
       "3                        274.086420  \n",
       "4                        130.975309  \n",
       "5                        109.086420  \n",
       "6                         29.641975  \n",
       "7                         29.641975  \n",
       "8                        133.530864  "
      ]
     },
     "execution_count": 7,
     "metadata": {},
     "output_type": "execute_result"
    }
   ],
   "source": [
    "get_variance(scores)"
   ]
  },
  {
   "cell_type": "markdown",
   "metadata": {},
   "source": [
    "<center>Standard Deviation</center>"
   ]
  },
  {
   "cell_type": "markdown",
   "metadata": {},
   "source": [
    "***Standard Deviation:*** The square root of the average of the squared deviations from the mean. That's a confusing defintion. Remember that the standard deviation is a measure of variability that is in the same units as the mean.\n",
    "\n",
    "Standard deviation is sometimes repersented by sigma ($\\sigma$)\n"
   ]
  },
  {
   "cell_type": "markdown",
   "metadata": {},
   "source": [
    "<center>How do I Calculate Standard Deviation?</center>"
   ]
  },
  {
   "cell_type": "markdown",
   "metadata": {},
   "source": [
    "To calculate it we simply take the square root of the varaince. \n",
    "\n",
    "The furmula can be repersented as such:\n",
    "$$\n",
    "SD=\\sqrt{\\frac{\\Sigma(X-M)^{2}}{N}}\n",
    "$$\n"
   ]
  },
  {
   "cell_type": "code",
   "execution_count": 8,
   "metadata": {},
   "outputs": [],
   "source": [
    "def get_standarddeviation(scores):\n",
    "    mean=np.mean(scores)\n",
    "    deviation_score=[x-mean for x in scores]\n",
    "    squared_deviation_scores=[x**2 for x in deviation_score]\n",
    "    sum_of_squared_deviation_scores=sum(squared_deviation_scores)\n",
    "    variance=sum_of_squared_deviation_scores/len(scores)\n",
    "    mean_fill=[np.mean(scores) for x in scores]\n",
    "    standard_deviation=math.sqrt(variance)\n",
    "    variance_dict={'scores': scores, 'mean': mean_fill, 'deviation scores(X-M)': deviation_score, \n",
    "                  'squared deviation scores': squared_deviation_scores}\n",
    "    variance_df=pd.DataFrame(variance_dict)\n",
    "    print('mean =',mean)\n",
    "    print('\\u03A3 SS =', sum_of_squared_deviation_scores)\n",
    "    print('SD^2 =',variance)\n",
    "    print('SD =', standard_deviation)\n",
    "    return variance_df"
   ]
  },
  {
   "cell_type": "code",
   "execution_count": 9,
   "metadata": {},
   "outputs": [
    {
     "name": "stdout",
     "output_type": "stream",
     "text": [
      "mean = 12.444444444444445\n",
      "Σ SS = 792.2222222222223\n",
      "SD^2 = 88.0246913580247\n",
      "SD = 9.382147481148689\n"
     ]
    },
    {
     "data": {
      "text/html": [
       "<div>\n",
       "<style scoped>\n",
       "    .dataframe tbody tr th:only-of-type {\n",
       "        vertical-align: middle;\n",
       "    }\n",
       "\n",
       "    .dataframe tbody tr th {\n",
       "        vertical-align: top;\n",
       "    }\n",
       "\n",
       "    .dataframe thead th {\n",
       "        text-align: right;\n",
       "    }\n",
       "</style>\n",
       "<table border=\"1\" class=\"dataframe\">\n",
       "  <thead>\n",
       "    <tr style=\"text-align: right;\">\n",
       "      <th></th>\n",
       "      <th>scores</th>\n",
       "      <th>mean</th>\n",
       "      <th>deviation scores(X-M)</th>\n",
       "      <th>squared deviation scores</th>\n",
       "    </tr>\n",
       "  </thead>\n",
       "  <tbody>\n",
       "    <tr>\n",
       "      <th>0</th>\n",
       "      <td>21</td>\n",
       "      <td>12.444444</td>\n",
       "      <td>8.555556</td>\n",
       "      <td>73.197531</td>\n",
       "    </tr>\n",
       "    <tr>\n",
       "      <th>1</th>\n",
       "      <td>9</td>\n",
       "      <td>12.444444</td>\n",
       "      <td>-3.444444</td>\n",
       "      <td>11.864198</td>\n",
       "    </tr>\n",
       "    <tr>\n",
       "      <th>2</th>\n",
       "      <td>12</td>\n",
       "      <td>12.444444</td>\n",
       "      <td>-0.444444</td>\n",
       "      <td>0.197531</td>\n",
       "    </tr>\n",
       "    <tr>\n",
       "      <th>3</th>\n",
       "      <td>29</td>\n",
       "      <td>12.444444</td>\n",
       "      <td>16.555556</td>\n",
       "      <td>274.086420</td>\n",
       "    </tr>\n",
       "    <tr>\n",
       "      <th>4</th>\n",
       "      <td>1</td>\n",
       "      <td>12.444444</td>\n",
       "      <td>-11.444444</td>\n",
       "      <td>130.975309</td>\n",
       "    </tr>\n",
       "    <tr>\n",
       "      <th>5</th>\n",
       "      <td>2</td>\n",
       "      <td>12.444444</td>\n",
       "      <td>-10.444444</td>\n",
       "      <td>109.086420</td>\n",
       "    </tr>\n",
       "    <tr>\n",
       "      <th>6</th>\n",
       "      <td>7</td>\n",
       "      <td>12.444444</td>\n",
       "      <td>-5.444444</td>\n",
       "      <td>29.641975</td>\n",
       "    </tr>\n",
       "    <tr>\n",
       "      <th>7</th>\n",
       "      <td>7</td>\n",
       "      <td>12.444444</td>\n",
       "      <td>-5.444444</td>\n",
       "      <td>29.641975</td>\n",
       "    </tr>\n",
       "    <tr>\n",
       "      <th>8</th>\n",
       "      <td>24</td>\n",
       "      <td>12.444444</td>\n",
       "      <td>11.555556</td>\n",
       "      <td>133.530864</td>\n",
       "    </tr>\n",
       "  </tbody>\n",
       "</table>\n",
       "</div>"
      ],
      "text/plain": [
       "   scores       mean  deviation scores(X-M)  squared deviation scores\n",
       "0      21  12.444444               8.555556                 73.197531\n",
       "1       9  12.444444              -3.444444                 11.864198\n",
       "2      12  12.444444              -0.444444                  0.197531\n",
       "3      29  12.444444              16.555556                274.086420\n",
       "4       1  12.444444             -11.444444                130.975309\n",
       "5       2  12.444444             -10.444444                109.086420\n",
       "6       7  12.444444              -5.444444                 29.641975\n",
       "7       7  12.444444              -5.444444                 29.641975\n",
       "8      24  12.444444              11.555556                133.530864"
      ]
     },
     "execution_count": 9,
     "metadata": {},
     "output_type": "execute_result"
    }
   ],
   "source": [
    "get_standarddeviation(scores)"
   ]
  },
  {
   "cell_type": "code",
   "execution_count": 10,
   "metadata": {},
   "outputs": [
    {
     "name": "stdout",
     "output_type": "stream",
     "text": [
      "mean = 3.8823529411764706\n",
      "Σ SS = 92.58823529411772\n",
      "SD^2 = 0.9077277970011541\n",
      "SD = 0.9527474990789292\n"
     ]
    },
    {
     "data": {
      "text/html": [
       "<div>\n",
       "<style scoped>\n",
       "    .dataframe tbody tr th:only-of-type {\n",
       "        vertical-align: middle;\n",
       "    }\n",
       "\n",
       "    .dataframe tbody tr th {\n",
       "        vertical-align: top;\n",
       "    }\n",
       "\n",
       "    .dataframe thead th {\n",
       "        text-align: right;\n",
       "    }\n",
       "</style>\n",
       "<table border=\"1\" class=\"dataframe\">\n",
       "  <thead>\n",
       "    <tr style=\"text-align: right;\">\n",
       "      <th></th>\n",
       "      <th>scores</th>\n",
       "      <th>mean</th>\n",
       "      <th>deviation scores(X-M)</th>\n",
       "      <th>squared deviation scores</th>\n",
       "    </tr>\n",
       "  </thead>\n",
       "  <tbody>\n",
       "    <tr>\n",
       "      <th>0</th>\n",
       "      <td>2</td>\n",
       "      <td>3.882353</td>\n",
       "      <td>-1.882353</td>\n",
       "      <td>3.543253</td>\n",
       "    </tr>\n",
       "    <tr>\n",
       "      <th>1</th>\n",
       "      <td>2</td>\n",
       "      <td>3.882353</td>\n",
       "      <td>-1.882353</td>\n",
       "      <td>3.543253</td>\n",
       "    </tr>\n",
       "    <tr>\n",
       "      <th>2</th>\n",
       "      <td>3</td>\n",
       "      <td>3.882353</td>\n",
       "      <td>-0.882353</td>\n",
       "      <td>0.778547</td>\n",
       "    </tr>\n",
       "    <tr>\n",
       "      <th>3</th>\n",
       "      <td>3</td>\n",
       "      <td>3.882353</td>\n",
       "      <td>-0.882353</td>\n",
       "      <td>0.778547</td>\n",
       "    </tr>\n",
       "    <tr>\n",
       "      <th>4</th>\n",
       "      <td>3</td>\n",
       "      <td>3.882353</td>\n",
       "      <td>-0.882353</td>\n",
       "      <td>0.778547</td>\n",
       "    </tr>\n",
       "    <tr>\n",
       "      <th>...</th>\n",
       "      <td>...</td>\n",
       "      <td>...</td>\n",
       "      <td>...</td>\n",
       "      <td>...</td>\n",
       "    </tr>\n",
       "    <tr>\n",
       "      <th>97</th>\n",
       "      <td>6</td>\n",
       "      <td>3.882353</td>\n",
       "      <td>2.117647</td>\n",
       "      <td>4.484429</td>\n",
       "    </tr>\n",
       "    <tr>\n",
       "      <th>98</th>\n",
       "      <td>6</td>\n",
       "      <td>3.882353</td>\n",
       "      <td>2.117647</td>\n",
       "      <td>4.484429</td>\n",
       "    </tr>\n",
       "    <tr>\n",
       "      <th>99</th>\n",
       "      <td>6</td>\n",
       "      <td>3.882353</td>\n",
       "      <td>2.117647</td>\n",
       "      <td>4.484429</td>\n",
       "    </tr>\n",
       "    <tr>\n",
       "      <th>100</th>\n",
       "      <td>6</td>\n",
       "      <td>3.882353</td>\n",
       "      <td>2.117647</td>\n",
       "      <td>4.484429</td>\n",
       "    </tr>\n",
       "    <tr>\n",
       "      <th>101</th>\n",
       "      <td>6</td>\n",
       "      <td>3.882353</td>\n",
       "      <td>2.117647</td>\n",
       "      <td>4.484429</td>\n",
       "    </tr>\n",
       "  </tbody>\n",
       "</table>\n",
       "<p>102 rows × 4 columns</p>\n",
       "</div>"
      ],
      "text/plain": [
       "     scores      mean  deviation scores(X-M)  squared deviation scores\n",
       "0         2  3.882353              -1.882353                  3.543253\n",
       "1         2  3.882353              -1.882353                  3.543253\n",
       "2         3  3.882353              -0.882353                  0.778547\n",
       "3         3  3.882353              -0.882353                  0.778547\n",
       "4         3  3.882353              -0.882353                  0.778547\n",
       "..      ...       ...                    ...                       ...\n",
       "97        6  3.882353               2.117647                  4.484429\n",
       "98        6  3.882353               2.117647                  4.484429\n",
       "99        6  3.882353               2.117647                  4.484429\n",
       "100       6  3.882353               2.117647                  4.484429\n",
       "101       6  3.882353               2.117647                  4.484429\n",
       "\n",
       "[102 rows x 4 columns]"
      ]
     },
     "execution_count": 10,
     "metadata": {},
     "output_type": "execute_result"
    }
   ],
   "source": [
    "# init wordle scores with our two twos\n",
    "scores = [2,2]\n",
    "# append for threes \n",
    "for i in range(39):\n",
    "    scores.append(3)\n",
    "# append for fours\n",
    "for i in range(38):\n",
    "    scores.append(4)\n",
    "# append for fives\n",
    "for i in range(15):\n",
    "    scores.append(5)\n",
    "\n",
    "#a append for sixxes\n",
    "for i in range(8):\n",
    "    scores.append(6)\n",
    "    \n",
    "get_standarddeviation(scores)"
   ]
  },
  {
   "cell_type": "markdown",
   "metadata": {},
   "source": [
    "<center>Z Scores</center>"
   ]
  },
  {
   "cell_type": "markdown",
   "metadata": {},
   "source": [
    "***Z Score:*** The number of standard deviations the score is from the mean. For Z score cut offs, see Distributions and Frequency."
   ]
  },
  {
   "cell_type": "markdown",
   "metadata": {},
   "source": [
    "<center>Calculating Z score</center>\n"
   ]
  },
  {
   "cell_type": "markdown",
   "metadata": {},
   "source": [
    "\n",
    "\n",
    "$$\n",
    "Z\\,score = \\frac{raw\\,score - mean}{standard\\,deviation}\n",
    "$$\n",
    "\n",
    "\n",
    "\n",
    "\n",
    "$$\n",
    "Z=\\frac{X-M}{SD}\n",
    "$$"
   ]
  },
  {
   "cell_type": "markdown",
   "metadata": {},
   "source": [
    "To change from Z score to raw score:\n",
    "$$\n",
    "X=(Z)(SD) + M\n",
    "$$"
   ]
  },
  {
   "cell_type": "markdown",
   "metadata": {},
   "source": [
    "The mean of any distributions of Z scores is always 0. The standard deviation of any distribution of z scores is always 1. "
   ]
  },
  {
   "cell_type": "markdown",
   "metadata": {},
   "source": [
    "### Hypothesis Testing And Effect Size"
   ]
  },
  {
   "cell_type": "markdown",
   "metadata": {},
   "source": [
    "#### Hypothesis testing and the reasoning behind it"
   ]
  },
  {
   "cell_type": "markdown",
   "metadata": {},
   "source": [
    "In short, a hypothesis test measures the probability that the results obtained by the study are due to chance, given that the sample population is the same as the general population. Therefore, a low p value indiates that a result is unlikely if there is no effect of the independent variable.\n",
    "\n",
    "There are two common cut offs for significancce and they are p<0.05 and p<0.01. If a p<0.05 that means there is less than a 5% chance that results of the study would be found if the null hypothesis were true."
   ]
  },
  {
   "cell_type": "markdown",
   "metadata": {},
   "source": [
    "*A Quick Note on Notation*\n",
    "\n",
    "- We use different characters to represent the difference between sample means and sample standard deviations versus the population mean and population mean.\n",
    "\n",
    " - M = sample mean\n",
    " - SD = sample standard deviation\n",
    " - $\\mu$ = population mean\n",
    " - $\\sigma$ = population standard deviation\n"
   ]
  },
  {
   "cell_type": "markdown",
   "metadata": {},
   "source": [
    "#### Steps of Hypothesis Testing  Sample $\\leq1$"
   ]
  },
  {
   "cell_type": "markdown",
   "metadata": {},
   "source": [
    " 1. Restating the question as a research hypothesis and null hypothesis about the populations.\n",
    "  - In a null hypothesis, $\\mu_{1}\\,=\\,\\mu_{2}$ \n",
    " 2. Determine the characteristics of the comparison distribution.\n",
    "  - What is the mean (M) and standard distribution (SD) of the comparison population?\n",
    " 3. Determine the significance cut off at which the null hypothesis is rejected. \n",
    "  - Pick a p-value and the corresponding z score.\n",
    " 4. Calculate your sample's score.\n",
    " 5. Reject the null or fail to reject the null.\n",
    "  - We never accept the null.\n",
    " 6. Significance statement."
   ]
  },
  {
   "cell_type": "markdown",
   "metadata": {},
   "source": [
    "<center> Formula for Hypothesis Testing (z-test) when sample $\\leq1$ <\\center>"
   ]
  },
  {
   "cell_type": "markdown",
   "metadata": {},
   "source": [
    "$X= (\\sigma)(Z) + \\mu$"
   ]
  },
  {
   "cell_type": "code",
   "execution_count": 11,
   "metadata": {},
   "outputs": [],
   "source": [
    "def one_tailed_z_test(sigma,z_score,mu,sample):\n",
    "    print ('\\u03A7 = (\\u03C3)(\\u0396) + \\u03BC')\n",
    "    print ('X =', '(',sigma,')', '(',z_score,')','+',mu)\n",
    "    print ('X =', sigma*z_score, '+', mu)\n",
    "    X = (sigma*z_score) + mu\n",
    "    print ('X =', X)\n",
    "    print ('For your result to be significant, your sample must surpass', X)\n",
    "    if sample > X: \n",
    "        print ('Your sample surpasses the cutt off. We reject the null hypothesis. Your result is statistically signifcant.')\n",
    "    else:\n",
    "        print ('Your sample does not surpass the cut off. We fail to reject the null hypothesis. The results are inconclusive.')\n",
    "        \n",
    "def run_one_tailed_z_test_single_sample():\n",
    "    print('This function is designed to determine significance, given a single sample from the population.')\n",
    "    print('If you have a sample greater than one, use function \"run_one_tailed_z_test_sample>1\"')\n",
    "    sigma=float(input('What is your population standard deviation? \\u03C3='))\n",
    "    z_score=float(input('What is your z score cut off? \\u0396='))\n",
    "    mu=float(input('What is your population mean? \\u03BC='))\n",
    "    sample=float(input('What is your sample point?'))\n",
    "    one_tailed_t_test(sigma,z_score,mu,sample)\n",
    "\n",
    "def two_tailed_z_test_single_sample(sigma,z_score,mu,sample):\n",
    "    print ('\\u03A7 = (\\u03C3)(\\u0396) + \\u03BC')\n",
    "    print ('X =', '(',sigma,')', '(',z_score,')','+',mu)\n",
    "    print ('X =', sigma*z_score, '+', mu)\n",
    "    high_bound = (sigma*z_score) + mu\n",
    "    print ('X =', high_bound)\n",
    "    print ('\\u03A7 = (\\u03C3)(\\u0396) + \\u03BC')\n",
    "    print ('X =', '(',sigma,')', '(',z_score*-1,')','+',mu)\n",
    "    print ('X =', sigma*z_score*-1, '+', mu)\n",
    "    low_bound = (sigma*z_score*-1) + mu\n",
    "    print ('X =', low_bound)\n",
    "    print ('For your result to be significant, your sample must either be greater than', high_bound)\n",
    "    print ('or it must be less than', low_bound)\n",
    "    if sample > high_bound: \n",
    "        print ('Your sample surpasses the cutt off. We reject the null hypothesis. Your result is statistically signifcant.')\n",
    "    elif sample < low_bound:\n",
    "        print ('Your sample surpasses the cutt off. We reject the null hypothesis. Your result is statistically signifcant.')\n",
    "    else:\n",
    "        print ('Your sample does not surpass the cut off. We fail to reject the null hypothesis. The results are inconclusive.')\n",
    "\n",
    "def run_two_tailed_z_test_single_sample():\n",
    "    print('This function is designed to determine significance, given a single sample from the population.')\n",
    "    print('If you have a sample greater than one, use function \"run_two_tailed_z_test_sample_greater_than_one\"')\n",
    "    print ('Step 1: Restate your research hypothesis and null hypothesis. You have to do this. This calculator cannot.')\n",
    "    print ('Step 2: Determine the characteristics of your comparison population.')\n",
    "    sigma=float(input('What is your population standard deviation? \\u03C3='))\n",
    "    z_score=float(input('What is your z score cut off? \\u0396='))\n",
    "    mu=float(input('What is your population mean? \\u03BC='))\n",
    "    sample=float(input('What is your sample point?'))\n",
    "    two_tailed_z_test_single_sample(sigma,z_score,mu,sample)\n",
    "\n",
    "def get_standard_error(sigma,n):\n",
    "    print ('Calculating standard error...')\n",
    "    standard_error=math.sqrt((sigma**2)/n)\n",
    "    print ('standard error =',standard_error)\n",
    "    \n",
    "def run_two_tailed_z_test_sample_greater_than_one():\n",
    "    print('This function is designed to determine significance, given a sample greater than one from the population.')\n",
    "    print('If you have a single sample, either use the function \"run_two_tailed_z_test_single_sample()\" or \"run_one_tailed_z_test_single_sample()\"')\n",
    "    print ('Step 1: Restate your research hypothesis and null hypothesis. You have to do this. This calculator cannot.')\n",
    "    print ('Step 2: Determine the characteristics of your comparison population.')  \n",
    "    sigma=float(input('What is your population standard deviation? \\u03C3='))\n",
    "    z_score=float(input('What is your z score cut off? \\u0396='))\n",
    "    mu=float(input('What is your population mean? \\u03BC='))\n",
    "    sample_mean=float(input('What is your sample mean?'))\n",
    "    n=float(input('How large is your sample'))\n",
    "    print ('Step 3: Determine your cut off scores')\n",
    "    print ('Wait–We need standard error. One sec...')\n",
    "    print ('Calculating standard error...')\n",
    "    #These couple lines calculate standard error\n",
    "    standard_error=math.sqrt((sigma**2)/n)\n",
    "    print ('standard error (SE)=',standard_error)\n",
    "    #Running the z-test\n",
    "    two_tailed_z_test_sample_greater_than_one(standard_error,z_score,mu,sample_mean)\n",
    "    \n",
    "    \n",
    "def two_tailed_z_test_sample_greater_than_one(standard_error,z_score,mu,sample_mean):\n",
    "    print ('Calculating the high bound')\n",
    "    print ('\\u03A7 = (SE)(\\u0396) + \\u03BC')\n",
    "    print ('X =', '(',standard_error,')', '(',z_score,')','+',mu)\n",
    "    print ('X =', standard_error*z_score, '+', mu)\n",
    "    high_bound = (standard_error*z_score) + mu\n",
    "    print ('X =', high_bound)\n",
    "    print ('Calculating the low bound')\n",
    "    print ('\\u03A7 = (SE)(\\u0396) + \\u03BC')\n",
    "    print ('X =', '(',standard_error,')', '(',z_score*-1,')','+',mu)\n",
    "    print ('X =', standard_error*z_score*-1, '+', mu)\n",
    "    low_bound = (standard_error*z_score*-1) + mu\n",
    "    print ('X =', low_bound)\n",
    "    print ('Step 4: Determine the score of your sample.')\n",
    "    print ('As a reminder, your sample mean was', sample_mean)\n",
    "    print ('Step 5: Statement of significance. Report your decision about whether or not to reject the null hypothesis')\n",
    "    print ('For your result to be significant, your sample must either be greater than', high_bound)\n",
    "    print ('or it must be less than', low_bound)\n",
    "    if sample_mean > high_bound: \n",
    "        print ('Your sample surpasses the cutt off. We reject the null hypothesis. Your result is statistically signifcant.')\n",
    "    elif sample_mean < low_bound:\n",
    "        print ('Your sample surpasses the cutt off. We reject the null hypothesis. Your result is statistically signifcant.')\n",
    "    else:\n",
    "        print ('Your sample does not surpass the cut off. We fail to reject the null hypothesis. The results are inconclusive.')\n",
    "    "
   ]
  },
  {
   "cell_type": "markdown",
   "metadata": {},
   "source": [
    "To run a one tailed z-test with a sample of 1, use the calculator below."
   ]
  },
  {
   "cell_type": "markdown",
   "metadata": {},
   "source": [
    "To run a two tailed z-test with a sample of 1, use the function below."
   ]
  },
  {
   "cell_type": "code",
   "execution_count": null,
   "metadata": {},
   "outputs": [
    {
     "name": "stdout",
     "output_type": "stream",
     "text": [
      "This function is designed to determine significance, given a single sample from the population.\n",
      "If you have a sample greater than one, use function \"run_two_tailed_z_test_sample_greater_than_one\"\n",
      "Step 1: Restate your research hypothesis and null hypothesis. You have to do this. This calculator cannot.\n",
      "Step 2: Determine the characteristics of your comparison population.\n"
     ]
    }
   ],
   "source": [
    "run_two_tailed_z_test_single_sample()"
   ]
  },
  {
   "cell_type": "code",
   "execution_count": null,
   "metadata": {},
   "outputs": [],
   "source": [
    "scores = [1,3,3,3,4,4,4,4]\n",
    "get_variance(scores)"
   ]
  },
  {
   "cell_type": "markdown",
   "metadata": {},
   "source": [
    "<center> The Distribution of Means </center>"
   ]
  },
  {
   "cell_type": "markdown",
   "metadata": {},
   "source": [
    "- The more sample means you draw, the more normal and the narrower the distribution of means becomes.\n",
    "- This same effect can be reached by taking a larger sample size.\n",
    "- This is the case even if your distribution is bimodal.\n",
    "- ***Standard Error:*** The standard deviation of sampling distribution of the sample mean.\n",
    "    - The larger the sample, the smaller the standard error is.\n",
    "- ***Margin of Error (MOE):*** the maximum likely divergence between the sample mean and the sample population."
   ]
  },
  {
   "cell_type": "markdown",
   "metadata": {},
   "source": [
    "#### Steps of Hypothesis Testing  Sample $>1$"
   ]
  },
  {
   "cell_type": "markdown",
   "metadata": {},
   "source": [
    "1. Restate your question as a research hypothesis and null hypothesis.\n",
    "2. Determine characteristics of the comparison distribution.\n",
    "3. Determine the cutoff score on the comparison distribution at whcih the null hypothesis should be rejected.\n",
    "4. Determine your sample's score on the comparison distribution.\n",
    "5. Decide whether to reject the null hypothesis.\n",
    "***The ONLY difference when you are performing a z-test with a sample greater than 1: you replace standard deviation with standard error.*** \n",
    "    \n",
    "- Thus your equation goes from:\n",
    "    \n",
    "    $X= (\\sigma)(Z) + \\mu$\n",
    "    \n",
    "- To:\n",
    "    \n",
    "    $X= (\\sigma_{\\mu})(Z) + \\mu$\n",
    "    \n",
    "<center>How do we find standard error?<\\center>\n",
    "\n",
    "While standard error–the standard deviation of sampling distribution of the sample mean–is  conceptually difficult, calulating standard error is not horrible. \n",
    "\n",
    "$$\n",
    "\\sigma_{\\mu}=\\sqrt{\\frac{\\sigma^{2}}{N}}\n",
    "$$"
   ]
  },
  {
   "cell_type": "markdown",
   "metadata": {},
   "source": [
    "- ***Effect Size:*** A measurement of the differences between population means.\n",
    "    - Effect size increases with greater differences between means.\n",
    "- ***Cohen's d:*** a common measure of effect size.\n",
    "    - $0.2\\leq d \\leq 0.5$ \"Small\"\n",
    "    - $0.50\\leq d\\leq 0.8$ \"Medium\"\n",
    "    - $ 0.80<d $ \"Large\"\n",
    "$$\n",
    "d=\\frac{\\mu_{1}-\\mu_{2}}{\\sigma}\n",
    "$$"
   ]
  },
  {
   "cell_type": "markdown",
   "metadata": {},
   "source": [
    "#### Confidence Intervals\n",
    "- Confidence interval are an estimation of where the population mean is, given the sample mean. \n",
    "- It is not hard to calculate. Simply:\n",
    "$$X=(\\sigma_{\\mu})(Z) + \\mu_{M}$$"
   ]
  },
  {
   "cell_type": "code",
   "execution_count": null,
   "metadata": {},
   "outputs": [],
   "source": []
  }
 ],
 "metadata": {
  "kernelspec": {
   "display_name": "Python 3",
   "language": "python",
   "name": "python3"
  },
  "language_info": {
   "codemirror_mode": {
    "name": "ipython",
    "version": 3
   },
   "file_extension": ".py",
   "mimetype": "text/x-python",
   "name": "python",
   "nbconvert_exporter": "python",
   "pygments_lexer": "ipython3",
   "version": "3.7.6"
  }
 },
 "nbformat": 4,
 "nbformat_minor": 4
}
